{
 "cells": [
  {
   "cell_type": "code",
   "execution_count": 1,
   "id": "5cf6d5cd",
   "metadata": {},
   "outputs": [],
   "source": [
    "import sqlite3\n",
    "import pandas as pd\n",
    "import matplotlib.pyplot as plt"
   ]
  },
  {
   "cell_type": "code",
   "execution_count": 2,
   "id": "8ca252f2",
   "metadata": {},
   "outputs": [],
   "source": [
    "conn= sqlite3.connect(\"sales_data.db\")\n",
    "cursor = conn.cursor()\n"
   ]
  },
  {
   "cell_type": "code",
   "execution_count": 3,
   "id": "9f1535e2",
   "metadata": {},
   "outputs": [
    {
     "data": {
      "text/plain": [
       "<sqlite3.Cursor at 0x2717f031d50>"
      ]
     },
     "execution_count": 3,
     "metadata": {},
     "output_type": "execute_result"
    }
   ],
   "source": [
    "# Create the sales table\n",
    "cursor.execute(\"\"\"\n",
    "CREATE TABLE IF NOT EXISTS sales (\n",
    "    id INTEGER PRIMARY KEY,\n",
    "    product TEXT,\n",
    "    quantity INTEGER,\n",
    "    price decimal(10, 2)\n",
    ")\n",
    "\"\"\")"
   ]
  },
  {
   "cell_type": "code",
   "execution_count": 4,
   "id": "1f3a5c61",
   "metadata": {},
   "outputs": [],
   "source": [
    "# Insert sample sales data\n",
    "sample_data = [\n",
    "    (1,\"Mobile\", 10,10000),\n",
    "    (2,\"Laptop\", 15, 50000),\n",
    "    (3,\"Washing machine\", 5,20000),\n",
    "    (4,\"camera\", 8, 5000)\n",
    "]\n"
   ]
  },
  {
   "cell_type": "code",
   "execution_count": 10,
   "id": "5454d748",
   "metadata": {},
   "outputs": [],
   "source": [
    "list=[]\n",
    "ID=int(input(\"Enter the number of records you want to insert: \"))\n",
    "product=input(\"Enter the product name: \")\n",
    "quantity=int(input(\"Enter the quantity: \")) \n",
    "price=float(input(\"Enter the price: \"))\n",
    "a=(ID,product,quantity,price)\n",
    "\n",
    "list.append(a)"
   ]
  },
  {
   "cell_type": "code",
   "execution_count": null,
   "id": "1bef21bc",
   "metadata": {},
   "outputs": [
    {
     "data": {
      "text/plain": [
       "<sqlite3.Cursor at 0x2717f7741f0>"
      ]
     },
     "execution_count": 14,
     "metadata": {},
     "output_type": "execute_result"
    }
   ],
   "source": [
    "conn= sqlite3.connect(\"sales_data.db\")\n",
    "cursor = conn.cursor()\n",
    "cursor.executemany(\"INSERT INTO sales (id,product, quantity, price) VALUES (?, ?, ?, ?)\", list)"
   ]
  },
  {
   "cell_type": "code",
   "execution_count": 17,
   "id": "e6cdcd3c",
   "metadata": {},
   "outputs": [
    {
     "data": {
      "text/plain": [
       "<sqlite3.Cursor at 0x2717f7741f0>"
      ]
     },
     "execution_count": 17,
     "metadata": {},
     "output_type": "execute_result"
    }
   ],
   "source": [
    "cursor.execute(\"UPDATE sales SET quantity = 15 WHERE id = 3\")"
   ]
  },
  {
   "cell_type": "code",
   "execution_count": 18,
   "id": "10cffb99",
   "metadata": {},
   "outputs": [],
   "source": [
    "conn.commit()"
   ]
  },
  {
   "cell_type": "markdown",
   "id": "7a1b7fba",
   "metadata": {},
   "source": [
    "2. Run SQL Query Inside Python and Load with Pandas\n"
   ]
  },
  {
   "cell_type": "code",
   "execution_count": null,
   "id": "b013c745",
   "metadata": {},
   "outputs": [],
   "source": [
    "# Connect to the database\n",
    "conn = sqlite3.connect(\"sales_data.db\")"
   ]
  },
  {
   "cell_type": "code",
   "execution_count": 19,
   "id": "e1d1c767",
   "metadata": {},
   "outputs": [
    {
     "name": "stdout",
     "output_type": "stream",
     "text": [
      "   id          product  quantity  price\n",
      "0   1           Mobile        10  10000\n",
      "1   2           Laptop        15  50000\n",
      "2   3  Washing machine        15  20000\n",
      "3   4           camera        10   5000\n",
      "4   5          charger        50    500\n",
      "5   7              usb        30    100\n"
     ]
    }
   ],
   "source": [
    "query = \"SELECT * FROM sales\"\n",
    "df = pd.read_sql_query(query, conn)\n",
    "print(df)"
   ]
  },
  {
   "cell_type": "code",
   "execution_count": 20,
   "id": "4d4db1f9",
   "metadata": {},
   "outputs": [
    {
     "name": "stdout",
     "output_type": "stream",
     "text": [
      "           product  total_qty  revenue\n",
      "0           Laptop         15   750000\n",
      "1           Mobile         10   100000\n",
      "2  Washing machine         15   300000\n",
      "3           camera         10    50000\n",
      "4          charger         50    25000\n",
      "5              usb         30     3000\n"
     ]
    }
   ],
   "source": [
    "\n",
    "# Run SQL query\n",
    "query = \"\"\"\n",
    "SELECT product, \n",
    "       SUM(quantity) AS total_qty, \n",
    "       SUM(quantity * price) AS revenue \n",
    "FROM sales \n",
    "GROUP BY product\n",
    "\"\"\"\n",
    "df = pd.read_sql_query(query, conn)\n",
    "\n",
    "# Print the results\n",
    "print(df)\n"
   ]
  },
  {
   "cell_type": "markdown",
   "id": "9395565d",
   "metadata": {},
   "source": [
    "3. Plot a Simple Bar Chart"
   ]
  },
  {
   "cell_type": "code",
   "execution_count": 21,
   "id": "cb462a95",
   "metadata": {},
   "outputs": [
    {
     "data": {
      "image/png": "[encoded data removed]",
      "text/plain": [
       "<Figure size 640x480 with 1 Axes>"
      ]
     },
     "metadata": {},
     "output_type": "display_data"
    }
   ],
   "source": [
    "# Plot revenue by product\n",
    "df.plot(kind='bar', x='product', y='revenue', legend=False, color='skyblue')\n",
    "plt.title(\"Revenue by Product\")\n",
    "plt.xlabel(\"Product\")\n",
    "plt.ylabel(\"Revenue\")\n",
    "plt.savefig(\"sales_chart.png\")  # Optional: Save the plot\n",
    "plt.show()\n"
   ]
  },
  {
   "cell_type": "code",
   "execution_count": 22,
   "id": "3a4d7860",
   "metadata": {},
   "outputs": [],
   "source": [
    "conn.close()    "
   ]
  }
 ],
 "metadata": {
  "kernelspec": {
   "display_name": "Python 3",
   "language": "python",
   "name": "python3"
  },
  "language_info": {
   "codemirror_mode": {
    "name": "ipython",
    "version": 3
   },
   "file_extension": ".py",
   "mimetype": "text/x-python",
   "name": "python",
   "nbconvert_exporter": "python",
   "pygments_lexer": "ipython3",
   "version": "3.9.1"
  }
 },
 "nbformat": 4,
 "nbformat_minor": 5
}
